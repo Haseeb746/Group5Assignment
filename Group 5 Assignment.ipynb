{
 "cells": [
  {
   "cell_type": "code",
   "execution_count": 1,
   "id": "83129cb9",
   "metadata": {},
   "outputs": [
    {
     "data": {
      "image/png": "[encoded data removed]",
      "text/plain": [
       "<Figure size 640x480 with 1 Axes>"
      ]
     },
     "metadata": {},
     "output_type": "display_data"
    }
   ],
   "source": [
    "#Group Assignment 3\n",
    "#Haseeb and Abira \n",
    "#GROUP 5\n",
    "\n",
    "#Python libraries\n",
    "import pandas as pd\n",
    "import matplotlib.pyplot as plt\n",
    "%matplotlib inline\n",
    "import numpy as np\n",
    "from scipy.stats import binom\n",
    "import math\n",
    "import random\n",
    "import statistics\n",
    "\n",
    "#question1)\n",
    "#parta)compute the distribution of x and represent it using a bar plot\n",
    "n = 100 # number of coin flips\n",
    "p = 0.5 # probability of getting tails on a single flip\n",
    "\n",
    "x = np.arange(0, n+1)\n",
    "pmf = binom.pmf(x, n, p)\n",
    "\n",
    "plt.bar(x, pmf)\n",
    "plt.xlabel('Number of tails')\n",
    "plt.ylabel('Probability')\n",
    "plt.title('Distribution of tails when a fair coin is flipped 100 times')\n",
    "plt.show()"
   ]
  },
  {
   "cell_type": "code",
   "execution_count": 2,
   "id": "1772e748",
   "metadata": {},
   "outputs": [
    {
     "name": "stdout",
     "output_type": "stream",
     "text": [
      "Mean:  50.0\n",
      "Standard deviation:  5.0\n"
     ]
    }
   ],
   "source": [
    "#question1)\n",
    "#partb) Calculate the mean /expected value and the standard deviation of x\n",
    "mean = n * p\n",
    "std_dev = np.sqrt(n * p * (1 - p))\n",
    "print(\"Mean: \", mean)\n",
    "print(\"Standard deviation: \", std_dev)\n"
   ]
  },
  {
   "cell_type": "code",
   "execution_count": 3,
   "id": "00efb6b6",
   "metadata": {},
   "outputs": [
    {
     "name": "stdout",
     "output_type": "stream",
     "text": [
      "Probability of x within 1 standard deviation of the mean:  0.6803\n",
      "Probability of x within 2 standard deviations of the mean:  0.954\n",
      "Probability of x within 3 standard deviations of the mean:  0.9973\n"
     ]
    }
   ],
   "source": [
    "#question1)\n",
    "#partc) determine the probability that x is between: the mean of +/- 1 standard dev, the mean of +/- 2 standard dev, the mean of +/-3 standard dev\n",
    "from scipy.stats import binom\n",
    "\n",
    "# Define the parameters of the binomial distribution\n",
    "n = 100\n",
    "p = 0.5\n",
    "\n",
    "# Compute the mean and standard deviation of x\n",
    "mean = n * p\n",
    "std_dev = np.sqrt(n * p * (1 - p))\n",
    "\n",
    "# Compute the probabilities\n",
    "prob_within_1std = binom.cdf(mean+std_dev, n, p) - binom.cdf(mean-std_dev, n, p)\n",
    "prob_within_2std = binom.cdf(mean+2*std_dev, n, p) - binom.cdf(mean-2*std_dev, n, p)\n",
    "prob_within_3std = binom.cdf(mean+3*std_dev, n, p) - binom.cdf(mean-3*std_dev, n, p)\n",
    "\n",
    "# Print the results\n",
    "print(\"Probability of x within 1 standard deviation of the mean: \", round(prob_within_1std,4))\n",
    "print(\"Probability of x within 2 standard deviations of the mean: \", round(prob_within_2std,4))\n",
    "print(\"Probability of x within 3 standard deviations of the mean: \", round(prob_within_3std,4))"
   ]
  },
  {
   "cell_type": "code",
   "execution_count": 4,
   "id": "2c1796e9",
   "metadata": {},
   "outputs": [],
   "source": [
    "#question2)\n",
    "#parta)run 10000 simulations of 1000 flips of a fair coin and count the number of tails for each simulation \n",
    "\n",
    "import random\n",
    "\n",
    "num_simulations = 10000\n",
    "num_flips = 1000\n",
    "\n",
    "tails_counts = []\n",
    "\n",
    "for i in range(num_simulations):\n",
    "    tails_count = 0\n",
    "    for j in range(num_flips):\n",
    "        if random.random() < 0.5:\n",
    "            tails_count += 1\n",
    "    tails_counts.append(tails_count)"
   ]
  },
  {
   "cell_type": "code",
   "execution_count": 5,
   "id": "4263b230",
   "metadata": {},
   "outputs": [
    {
     "name": "stdout",
     "output_type": "stream",
     "text": [
      "Mean number of tails: 499.9464\n",
      "Standard deviation of tails: 15.8773\n"
     ]
    }
   ],
   "source": [
    "#question2)\n",
    "#partb) use the simulations to estimate the mean(expected value) and the standard dev of x\n",
    "mean_tails = sum(tails_counts) / len(tails_counts)\n",
    "stddev_tails = (sum((x - mean_tails)**2 for x in tails_counts) / len(tails_counts))**0.5\n",
    "\n",
    "print(\"Mean number of tails:\", mean_tails)\n",
    "print(\"Standard deviation of tails:\", round(stddev_tails,4))"
   ]
  },
  {
   "cell_type": "code",
   "execution_count": 6,
   "id": "3b3a83a0",
   "metadata": {},
   "outputs": [
    {
     "name": "stdout",
     "output_type": "stream",
     "text": [
      "Probability of x being within 1 standard deviation of the mean: 0.6676\n",
      "Probability of x being within 2 standard deviations of the mean: 0.9541\n",
      "Probability of x being within 3 standard deviations of the mean: 0.9975\n"
     ]
    }
   ],
   "source": [
    "#question2)\n",
    "#partc) determine the probability that x is between: the mean of +/- 1 standard dev, the mean of +/- 2 standard dev, the mean of +/-3 standard dev\n",
    "mean_tails = sum(tails_counts) / len(tails_counts)\n",
    "stddev_tails = (sum((x - mean_tails)**2 for x in tails_counts) / len(tails_counts))**0.5\n",
    "\n",
    "count_within_1_stddev = sum(1 for x in tails_counts if abs(x - mean_tails) <= stddev_tails)\n",
    "count_within_2_stddev = sum(1 for x in tails_counts if abs(x - mean_tails) <= 2*stddev_tails)\n",
    "count_within_3_stddev = sum(1 for x in tails_counts if abs(x - mean_tails) <= 3*stddev_tails)\n",
    "\n",
    "prob_within_1_stddev = count_within_1_stddev / len(tails_counts)\n",
    "prob_within_2_stddev = count_within_2_stddev / len(tails_counts)\n",
    "prob_within_3_stddev = count_within_3_stddev / len(tails_counts)\n",
    "\n",
    "print(\"Probability of x being within 1 standard deviation of the mean:\", prob_within_1_stddev)\n",
    "print(\"Probability of x being within 2 standard deviations of the mean:\", prob_within_2_stddev)\n",
    "print(\"Probability of x being within 3 standard deviations of the mean:\", prob_within_3_stddev)"
   ]
  },
  {
   "cell_type": "code",
   "execution_count": 7,
   "id": "478bfc31",
   "metadata": {},
   "outputs": [
    {
     "name": "stdout",
     "output_type": "stream",
     "text": [
      "Probability of winning by switching doors: 66.49000000000001 %\n"
     ]
    }
   ],
   "source": [
    "#question3)\n",
    "#the 3 door Monty Hall problem\n",
    "import random\n",
    "doors = [\"car\",\"goat\",\"goat\"]\n",
    "def runSimulations(switchDoors):  \n",
    "    random.shuffle(doors)\n",
    "    userChoice = random.choice ([0,1,2])\n",
    "    #Host opens a door\n",
    "    for i in range(3):\n",
    "        hostChoice = 0\n",
    "        if(i != userChoice and doors[i] == \"goat\"):\n",
    "            hostChoice = i\n",
    "            break      \n",
    "            \n",
    "    #User Switches doors\n",
    "    if switchDoors:   \n",
    "        for i in range(3):\n",
    "            if (i != userChoice and i != hostChoice):\n",
    "                userChoice = i\n",
    "                break\n",
    "                \n",
    "        # Determine if the user won\n",
    "    if doors[userChoice] == \"car\":\n",
    "        return 1\n",
    "    else:\n",
    "        return 0\n",
    "\n",
    "# Run 10,000 simulations with the contestant always switching doors\n",
    "numWins = 0\n",
    "for i in range(10000):\n",
    "    numWins += runSimulations(True)\n",
    "\n",
    "# Calculate the probability of winning by switching doors\n",
    "probSwitchWins = numWins / 10000\n",
    "print(\"Probability of winning by switching doors:\", probSwitchWins*100,\"%\")"
   ]
  },
  {
   "cell_type": "code",
   "execution_count": null,
   "id": "de282714",
   "metadata": {},
   "outputs": [],
   "source": []
  }
 ],
 "metadata": {
  "kernelspec": {
   "display_name": "Python 3 (ipykernel)",
   "language": "python",
   "name": "python3"
  },
  "language_info": {
   "codemirror_mode": {
    "name": "ipython",
    "version": 3
   },
   "file_extension": ".py",
   "mimetype": "text/x-python",
   "name": "python",
   "nbconvert_exporter": "python",
   "pygments_lexer": "ipython3",
   "version": "3.10.9"
  }
 },
 "nbformat": 4,
 "nbformat_minor": 5
}
